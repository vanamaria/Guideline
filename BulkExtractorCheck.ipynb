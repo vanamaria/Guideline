{
 "cells": [
  {
   "cell_type": "code",
   "execution_count": 1,
   "metadata": {},
   "outputs": [],
   "source": [
    "import csv"
   ]
  },
  {
   "cell_type": "code",
   "execution_count": 9,
   "metadata": {},
   "outputs": [],
   "source": [
    "def bulkcase_txt(directory):\n",
    "    msg=input(\"Give the name of the .txt file of Bulk Extractor to search for browsing activities (name.txt): \")\n",
    "    artefacts=directory+msg\n",
    "    keyword=input(\"Give the keyword to search in the \" +msg+ \" to check if the browsing activity exists: \")\n",
    "    \n",
    "    \n",
    "\n",
    "    with open(artefacts,'r') as f:\n",
    "        count=0\n",
    "        filename=input(\"Give the name of the file to save the data. Only .csv files are accepted (name.csv): \")\n",
    "        with open(filename, 'w', newline='') as file:\n",
    "            writer = csv.writer(file)\n",
    "            writer.writerow([\"Counter\", \"Artefacts\"])\n",
    "            for line in f:\n",
    "                if keyword in line:\n",
    "                    print(\"The \" +keyword+ \"exists!\")\n",
    "                    writer = csv.writer(file, dialect='excel')\n",
    "                    writer.writerow(line.split()    )\n",
    "                  \n",
    "                    answer=input(\"If you want to seacrh for another keyword type YES \")\n",
    "                    if answer=='YES':\n",
    "                        keyword=input(\"Give the keyword to search in the \" +msg+ \" to check if the browsing activity exists: \")\n",
    "                        continue\n",
    "                    else:\n",
    "                        break \n",
    "     "
   ]
  },
  {
   "cell_type": "code",
   "execution_count": 6,
   "metadata": {},
   "outputs": [
    {
     "ename": "SyntaxError",
     "evalue": "'continue' not properly in loop (<ipython-input-6-e98bf2e7dab3>, line 22)",
     "output_type": "error",
     "traceback": [
      "\u001b[1;36m  File \u001b[1;32m\"<ipython-input-6-e98bf2e7dab3>\"\u001b[1;36m, line \u001b[1;32m22\u001b[0m\n\u001b[1;31mSyntaxError\u001b[0m\u001b[1;31m:\u001b[0m 'continue' not properly in loop\n"
     ]
    }
   ],
   "source": [
    "def bbcase_txt(directory):\n",
    "    msg=input(\"Give the name of the .txt file of Bulk Extractor to search for browsing activities (name.txt): \")\n",
    "    artefacts=directory+msg\n",
    "    keyword=input(\"Give the keyword to search in the \" +msg+ \" to check if the browsing activity exists: \")\n",
    "    \n",
    "    \n",
    "\n",
    "    with open(artefacts,'r') as f:\n",
    "        count=0\n",
    "        filename=input(\"Give the name of the file to save the data. Only .csv files are accepted (name.csv): \")\n",
    "        with open(filename, 'w', newline='') as file:\n",
    "            writer = csv.writer(file)\n",
    "            writer.writerow([\"Counter\", \"Artefacts\"])\n",
    "\n",
    "            writer.writerow(line.split() for line in f  )\n",
    "            answer=input(\"If you want to seacrh for another keyword type YES \")\n",
    "            if answer=='YES':\n",
    "                keyword=input(\"Give the keyword to search in the \" +msg+ \" to check if the browsing activity exists: \")\n",
    "                continue\n",
    "            else:\n",
    "                break "
   ]
  },
  {
   "cell_type": "code",
   "execution_count": null,
   "metadata": {},
   "outputs": [],
   "source": []
  },
  {
   "cell_type": "code",
   "execution_count": 8,
   "metadata": {},
   "outputs": [
    {
     "name": "stdout",
     "output_type": "stream",
     "text": [
      "Give the path to the stored files for analysis C:\\Users\\User\\Documents\\University Southampton\\Thesis\\Final\\Memory-Browser open-All activities(ftk)\\\\\n",
      "Give the name of the .txt file of Bulk Extractor to search for browsing activities (name.txt): url_services.txt\n",
      "Give the keyword to search in the url_services.txt to check if the browsing activity exists: amazon\n",
      "Give the name of the file to save the data. Only .csv files are accepted (name.csv): asdf.csv\n",
      "The amazonexists!\n",
      "If you want to seacrh for another keyword type YES YES\n",
      "Give the keyword to search in the url_services.txt to check if the browsing activity exists: ebay\n"
     ]
    }
   ],
   "source": [
    "if __name__ == \"__main__\":\n",
    "    dire=input(\"Give the path to the stored files for analysis \")\n",
    "    bulkcase_txt(dire)"
   ]
  },
  {
   "cell_type": "code",
   "execution_count": null,
   "metadata": {},
   "outputs": [],
   "source": [
    "\n",
    "    msg=input(\"Give the name of the .txt file of Bulk Extractor to search for browsing activities (name.txt): \")\n",
    "    artefacts=directory+msg\n",
    "    keyword=input(\"Give the keyword to search in the \" +msg+ \" to check if the browsing activity exists\")\n",
    "    \n",
    "    \n",
    "    with open(artefacts) as f:\n",
    "        count=0\n",
    "        filename=input(\"Give the name of the file to save the data \")\n",
    "        with open(filename, 'w', newline='') as file:\n",
    "            writer = csv.writer(file)\n",
    "            writer.writerow([\"Artefacts\", \"Counter\"])\n",
    "\n",
    "            for line in f.readlines():\n",
    "                print(\"llllll\")\n",
    "                if keyword in f.read():\n",
    "               \n",
    "                    buffer.append(line)\n",
    "                    print(\"PPPP\")\n",
    "                    count+=1\n",
    "                    writer = csv.writer(file, dialect='excel')\n",
    "                    writet.writerow(\"\".join(buffer))\n",
    "                    #writer.writerow(keyword.split())\n",
    "                else:\n",
    "                    print(\"nnnn\")\n",
    "         \n",
    "    "
   ]
  },
  {
   "cell_type": "code",
   "execution_count": null,
   "metadata": {},
   "outputs": [],
   "source": [
    "def bulkcase(directory):\n",
    "    f=filew(directory)\n",
    "    for x in f:\n",
    "        print(x)\n",
    "        \n",
    "   "
   ]
  },
  {
   "cell_type": "code",
   "execution_count": null,
   "metadata": {},
   "outputs": [],
   "source": [
    "dire=r'C:\\Users\\User\\Documents\\University Southampton\\Thesis\\Final\\\\'\n",
    "x=['bla','lll','v']\n",
    "keyword(x)"
   ]
  },
  {
   "cell_type": "code",
   "execution_count": null,
   "metadata": {},
   "outputs": [],
   "source": [
    "def kkk():\n",
    "    aaa=input(\"1 or 2 \")\n",
    "    b=[0,1,2,3]\n",
    "    \n",
    "    if aaa=='1':\n",
    "        print(\"aaaa\")\n",
    "        bl=input()\n",
    "        if bl=='1':\n",
    "            continue\n",
    "        else:\n",
    "            break\n"
   ]
  },
  {
   "cell_type": "code",
   "execution_count": null,
   "metadata": {},
   "outputs": [],
   "source": [
    "kkk()"
   ]
  },
  {
   "cell_type": "code",
   "execution_count": null,
   "metadata": {},
   "outputs": [],
   "source": [
    "def keywordsearch(f,file,line):\n",
    "    keyword=input(\"Give the keyword to search in the  to check if the browsing activity exists: \")\n",
    "\n",
    "    if keyword in line:\n",
    "        print(\"PPPP\")\n",
    "        #count+=1\n",
    "        #buffer.append(x)\n",
    "        writer = csv.writer(file, dialect='excel')\n",
    "        writer.writerow(line.split())\n",
    "        #print(f.read())\n",
    "       "
   ]
  },
  {
   "cell_type": "code",
   "execution_count": 16,
   "metadata": {},
   "outputs": [
    {
     "name": "stdout",
     "output_type": "stream",
     "text": [
      "Give the name of the .txt file of Bulk Extractor to search for browsing activities (name.txt): url_services.txt\n",
      "Give the keyword to search in the url_services.txt to check if the browsing activity exists: skroutz\n",
      "Give the name of the file to save the data. Only .csv files are accepted (name.csv): asdf.csv\n",
      "PPPP\n",
      "If you want to seacrh for another keyword type YES YES\n",
      "Give the keyword to search in the url_services.txt to check if the browsing activity exists: ebay\n",
      "PPPP\n",
      "If you want to seacrh for another keyword type YES YES\n",
      "Give the keyword to search in the url_services.txt to check if the browsing activity exists: amazon\n",
      "PPPP\n",
      "If you want to seacrh for another keyword type YES l\n"
     ]
    }
   ],
   "source": [
    "dire=r'C:\\Users\\User\\Documents\\University Southampton\\Thesis\\Final\\Memory-Browser open-All activities(ftk)\\\\'\n",
    "bulk_txt(dire)"
   ]
  },
  {
   "cell_type": "code",
   "execution_count": null,
   "metadata": {},
   "outputs": [],
   "source": []
  },
  {
   "cell_type": "code",
   "execution_count": 7,
   "metadata": {},
   "outputs": [],
   "source": [
    "def bcase_txt(directory):\n",
    "    msg=input(\"Give the name of the .txt file of Bulk Extractor to search for browsing activities (name.txt): \")\n",
    "    artefacts=directory+msg\n",
    "    keyword=input(\"Give the keyword to search in the \" +msg+ \" to check if the browsing activity exists: \")\n",
    "    \n",
    "    \n",
    "\n",
    "    with open(artefacts,'r') as f:\n",
    "        count=0\n",
    "        filename=input(\"Give the name of the file to save the data. Only .csv files are accepted (name.csv): \")\n",
    "        with open(filename, 'w', newline='') as file:\n",
    "            writer = csv.writer(file)\n",
    "            writer.writerow([\"Artefacts\", \"Counter\"])\n",
    "            for x in f:\n",
    "                print(x)\n",
    "                if keyword in x:\n",
    "                    print(\"PPPP\")\n",
    "                    count+=1\n",
    "                    #buffer.append(x)\n",
    "                    writer = csv.writer(file, dialect='excel')\n",
    "                    writer.writerow(x.split())\n",
    "                \n",
    "                else:\n",
    "                    print(\"nnnn\")\n",
    "                    \n",
    "         \n",
    "    "
   ]
  },
  {
   "cell_type": "code",
   "execution_count": null,
   "metadata": {},
   "outputs": [],
   "source": [
    "csv_fileh = open(somefile, 'rb')\n",
    "try:\n",
    "    dialect = csv.Sniffer().sniff(csv_fileh.read(1024))\n",
    "    # Perform various checks on the dialect (e.g., lineseparator,\n",
    "    # delimiter) to make sure it's sane\n",
    "\n",
    "    # Don't forget to reset the read position back to the start of\n",
    "    # the file before reading any entries.\n",
    "    csv_fileh.seek(0)\n",
    "except csv.Error:\n",
    "    # File appears not to be in CSV format; move along        \n",
    "    "
   ]
  }
 ],
 "metadata": {
  "kernelspec": {
   "display_name": "Python 3",
   "language": "python",
   "name": "python3"
  },
  "language_info": {
   "codemirror_mode": {
    "name": "ipython",
    "version": 3
   },
   "file_extension": ".py",
   "mimetype": "text/x-python",
   "name": "python",
   "nbconvert_exporter": "python",
   "pygments_lexer": "ipython3",
   "version": "3.7.3"
  }
 },
 "nbformat": 4,
 "nbformat_minor": 2
}
